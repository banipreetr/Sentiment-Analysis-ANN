{
 "cells": [
  {
   "cell_type": "code",
   "execution_count": 1,
   "metadata": {},
   "outputs": [
    {
     "name": "stderr",
     "output_type": "stream",
     "text": [
      "C:\\Users\\Banipreet\\Anaconda3\\lib\\site-packages\\h5py\\__init__.py:36: FutureWarning: Conversion of the second argument of issubdtype from `float` to `np.floating` is deprecated. In future, it will be treated as `np.float64 == np.dtype(float).type`.\n",
      "  from ._conv import register_converters as _register_converters\n",
      "Using TensorFlow backend.\n"
     ]
    }
   ],
   "source": [
    "import numpy as np\n",
    "import sys\n",
    "from collections import Counter\n",
    "from keras.models import Sequential\n",
    "from keras.layers import Dense, Activation, Input"
   ]
  },
  {
   "cell_type": "code",
   "execution_count": 2,
   "metadata": {},
   "outputs": [],
   "source": [
    "def print_review_and_label(i):\n",
    "    print(labels[i] + \"\\t:\\t\" + reviews[i][:80] + \"...\")\n",
    "\n",
    "g = open('reviews.txt','r') # What we know!\n",
    "reviews = list(map(lambda x:x[:-1],g.readlines()))\n",
    "reviews = np.array(reviews)\n",
    "g.close()\n",
    "\n",
    "g = open('labels.txt','r') # What we WANT to know!\n",
    "labels = list(map(lambda x:x[:-1].upper(),g.readlines()))\n",
    "labels = np.array(labels)\n",
    "g.close()"
   ]
  },
  {
   "cell_type": "code",
   "execution_count": 3,
   "metadata": {},
   "outputs": [
    {
     "name": "stdout",
     "output_type": "stream",
     "text": [
      "Total Reviews:  25000\n"
     ]
    }
   ],
   "source": [
    "print('Total Reviews: ', len(reviews))"
   ]
  },
  {
   "cell_type": "code",
   "execution_count": 4,
   "metadata": {},
   "outputs": [
    {
     "name": "stdout",
     "output_type": "stream",
     "text": [
      "Example: \n",
      "Review: \n",
      "whoever says pokemon is stupid can die . this movie is superlative . i even shead a tear when celebei died . i don  t cry much  this film is a touching animated thriller .  br    br   in this fourth installment of pokemon  ash and friends must stop the bad jerk from making celebei the ultimate evil weapon with his dark ball . in the time  sam and celebei travel through time and continuously are hunted by game hunters . i like the part with the double battle and sam has the apricorn pokeball  if you  ve played pokemon gold  silver  or crystal  you know what it is .   br    br   i also enjoyed having miramax in charge instead of warner brothers . putting the mini movie at the end was a great idea . the pokemon in this movie come to life more than ever .  \n",
      "Sentiment: \n",
      "POSITIVE\n"
     ]
    }
   ],
   "source": [
    "print('Example: ')\n",
    "i = np.random.randint(len(reviews))\n",
    "print('Review: ')\n",
    "print(reviews[i])\n",
    "print('Sentiment: ')\n",
    "print(labels[i])"
   ]
  },
  {
   "cell_type": "code",
   "execution_count": 5,
   "metadata": {},
   "outputs": [
    {
     "name": "stdout",
     "output_type": "stream",
     "text": [
      "labels.txt \t : \t reviews.txt\n",
      "\n",
      "POSITIVE\t:\texcellent episode movie ala pulp fiction .  days   suicides . it doesnt get more...\n",
      "NEGATIVE\t:\tif you haven  t seen this  it  s terrible . it is pure trash . i saw this about ...\n",
      "POSITIVE\t:\tthis schiffer guy is a real genius  the movie is of excellent quality and both e...\n"
     ]
    }
   ],
   "source": [
    "print(\"labels.txt \\t : \\t reviews.txt\\n\")\n",
    "print_review_and_label(21934)\n",
    "print_review_and_label(5297)\n",
    "print_review_and_label(4998)"
   ]
  },
  {
   "cell_type": "code",
   "execution_count": 6,
   "metadata": {},
   "outputs": [],
   "source": [
    "total_counts = Counter()"
   ]
  },
  {
   "cell_type": "code",
   "execution_count": 7,
   "metadata": {},
   "outputs": [],
   "source": [
    "for i in range(len(reviews)):\n",
    "    for word in reviews[i].split(\" \"):\n",
    "        total_counts[word] += 1"
   ]
  },
  {
   "cell_type": "code",
   "execution_count": 13,
   "metadata": {},
   "outputs": [
    {
     "name": "stdout",
     "output_type": "stream",
     "text": [
      "Vocabulary size:  74074\n"
     ]
    }
   ],
   "source": [
    "vocab = set(total_counts.keys())\n",
    "vocab_size = len(vocab)\n",
    "print('Vocabulary size: ',vocab_size)"
   ]
  },
  {
   "cell_type": "code",
   "execution_count": 14,
   "metadata": {},
   "outputs": [],
   "source": [
    "word2index = {}\n",
    "\n",
    "for i,word in enumerate(vocab):\n",
    "    word2index[word] = i"
   ]
  },
  {
   "cell_type": "code",
   "execution_count": 15,
   "metadata": {},
   "outputs": [],
   "source": [
    "X = np.zeros((len(reviews),vocab_size))\n",
    "y = np.zeros((len(reviews),1))"
   ]
  },
  {
   "cell_type": "code",
   "execution_count": 16,
   "metadata": {},
   "outputs": [],
   "source": [
    "for i in range(len(reviews)):\n",
    "    review = reviews[i]\n",
    "    for word in review.split(\" \"):\n",
    "        X[i][word2index[word]] += 1\n",
    "        if labels[i] == 'POSITIVE': y[i][0] = 1\n",
    "        else: y[i][0] = 0\n"
   ]
  },
  {
   "cell_type": "code",
   "execution_count": 17,
   "metadata": {},
   "outputs": [
    {
     "name": "stdout",
     "output_type": "stream",
     "text": [
      "1\n",
      "0\n"
     ]
    }
   ],
   "source": [
    "y = np.asarray(y, dtype='int')\n",
    "print(y[0][0])\n",
    "print(y[1][0])"
   ]
  },
  {
   "cell_type": "code",
   "execution_count": 18,
   "metadata": {},
   "outputs": [],
   "source": [
    "def shuffle(x,y):\n",
    "    indices = np.arange(x.shape[0])\n",
    "    rand_indices = np.random.shuffle(indices)\n",
    "    x[indices] = x[rand_indices]\n",
    "    y[indices] = y[rand_indices]\n",
    "    return x,y\n",
    "X, y = shuffle(X,y)"
   ]
  },
  {
   "cell_type": "code",
   "execution_count": 23,
   "metadata": {},
   "outputs": [
    {
     "name": "stdout",
     "output_type": "stream",
     "text": [
      "_________________________________________________________________\n",
      "Layer (type)                 Output Shape              Param #   \n",
      "=================================================================\n",
      "dense_3 (Dense)              (None, 10)                740750    \n",
      "_________________________________________________________________\n",
      "dense_4 (Dense)              (None, 1)                 11        \n",
      "=================================================================\n",
      "Total params: 740,761\n",
      "Trainable params: 740,761\n",
      "Non-trainable params: 0\n",
      "_________________________________________________________________\n"
     ]
    }
   ],
   "source": [
    "model = Sequential()\n",
    "model.add(Dense(10, activation='relu', input_dim=vocab_size, kernel_initializer='TruncatedNormal',bias_initializer='zeros'))\n",
    "model.add(Dense(1, activation='sigmoid', kernel_initializer='TruncatedNormal',bias_initializer='zeros'))\n",
    "model.summary()"
   ]
  },
  {
   "cell_type": "code",
   "execution_count": 24,
   "metadata": {},
   "outputs": [],
   "source": [
    "model.compile(loss='binary_crossentropy',\n",
    "              optimizer='adam',\n",
    "              metrics=['accuracy'])"
   ]
  },
  {
   "cell_type": "code",
   "execution_count": 25,
   "metadata": {},
   "outputs": [
    {
     "name": "stdout",
     "output_type": "stream",
     "text": [
      "Train on 15000 samples, validate on 5000 samples\n",
      "Epoch 1/6\n",
      "15000/15000 [==============================] - 89s 6ms/step - loss: 0.5506 - acc: 0.7657 - val_loss: 0.3709 - val_acc: 0.8760\n",
      "Epoch 2/6\n",
      "15000/15000 [==============================] - 125s 8ms/step - loss: 0.2661 - acc: 0.9223 - val_loss: 0.2529 - val_acc: 0.9122\n",
      "Epoch 3/6\n",
      "15000/15000 [==============================] - 142s 9ms/step - loss: 0.1572 - acc: 0.9585 - val_loss: 0.1891 - val_acc: 0.9358\n",
      "Epoch 4/6\n",
      "15000/15000 [==============================] - 140s 9ms/step - loss: 0.1033 - acc: 0.9769 - val_loss: 0.1672 - val_acc: 0.9440\n",
      "Epoch 5/6\n",
      "15000/15000 [==============================] - 185s 12ms/step - loss: 0.0715 - acc: 0.9857 - val_loss: 0.1569 - val_acc: 0.9468\n",
      "Epoch 6/6\n",
      "15000/15000 [==============================] - 108s 7ms/step - loss: 0.0515 - acc: 0.9909 - val_loss: 0.1524 - val_acc: 0.9502\n"
     ]
    }
   ],
   "source": [
    "hist = model.fit(X[0:15000], y[0:15000],\n",
    "          batch_size=128,\n",
    "          epochs=6,\n",
    "          validation_data=(X[15000:20000], y[15000:20000]), \n",
    "          )"
   ]
  },
  {
   "cell_type": "code",
   "execution_count": 26,
   "metadata": {},
   "outputs": [
    {
     "name": "stdout",
     "output_type": "stream",
     "text": [
      "15000/15000 [==============================] - 63s 4ms/step\n",
      "5000/5000 [==============================] - 18s 4ms/step\n",
      "5000/5000 [==============================] - 30s 6ms/step\n",
      "Train Accuracy: 99.48666666666666%\n",
      "Validation Accuracy: 95.02000000000001%\n",
      "Test Accuracy: 96.2%\n"
     ]
    }
   ],
   "source": [
    "score = model.evaluate(X[:15000], y[:15000])\n",
    "score2 = model.evaluate(X[15000:20000], y[15000:20000])\n",
    "score3 = model.evaluate(X[20000:],y[20000:])\n",
    "\n",
    "print(\"Train Accuracy: \"+str(score[1]*100)+\"%\")\n",
    "print(\"Validation Accuracy: \"+str(score2[1]*100)+\"%\")\n",
    "print(\"Test Accuracy: \"+str(score3[1]*100)+\"%\")"
   ]
  },
  {
   "cell_type": "code",
   "execution_count": 27,
   "metadata": {},
   "outputs": [
    {
     "name": "stdout",
     "output_type": "stream",
     "text": [
      "brilliantly pathetic movie: Negative\n",
      "awesome film: Positive\n",
      "could have better screenplay however lacks in drama: Negative\n",
      "screenplay was good but story was written badly: Negative\n",
      "good story and screenplay overall a good movie: Positive\n"
     ]
    }
   ],
   "source": [
    "#Testing\n",
    "def predict(rev):\n",
    "    te = np.zeros([1,vocab_size])\n",
    "    for word in rev.split(\" \"):\n",
    "        te[0][word2index[word]] += 1\n",
    "    pred = np.squeeze(np.around(model.predict(te)))\n",
    "    if pred == 1: print(rev+': Positive')\n",
    "    else: print(rev+': Negative')\n",
    "\n",
    "predict('brilliantly pathetic movie')\n",
    "predict('awesome film')\n",
    "predict('could have better screenplay however lacks in drama')\n",
    "predict('screenplay was good but story was written badly')\n",
    "predict('good story and screenplay overall a good movie')"
   ]
  }
 ],
 "metadata": {
  "kernelspec": {
   "display_name": "Python 3",
   "language": "python",
   "name": "python3"
  },
  "language_info": {
   "codemirror_mode": {
    "name": "ipython",
    "version": 3
   },
   "file_extension": ".py",
   "mimetype": "text/x-python",
   "name": "python",
   "nbconvert_exporter": "python",
   "pygments_lexer": "ipython3",
   "version": "3.6.4"
  }
 },
 "nbformat": 4,
 "nbformat_minor": 2
}
